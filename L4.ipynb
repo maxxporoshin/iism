{
 "cells": [
  {
   "cell_type": "code",
   "execution_count": 2,
   "metadata": {
    "collapsed": false
   },
   "outputs": [
    {
     "name": "stdout",
     "output_type": "stream",
     "text": [
      "[2.0883048261241219, 2.0386621383804999, 2.0414723070692884, 2.1029984178915382, 2.1012684191456814, 2.1047108431550758, 2.097729629207008, 2.0983024609848622, 1.9949604394845908, 2.0977469702389051]\n",
      "[0.0087148261241218883, 0.040927861619500128, 0.038117692930711655, 0.023408417891538136, 0.02167841914568136, 0.025120843155075789, 0.018139629207007957, 0.018712460984862123, 0.084629560515409263, 0.018156970238905057]\n"
     ]
    }
   ],
   "source": [
    "import numpy as np\n",
    "\n",
    "def lfsrGen(S, c):\n",
    "    while True:\n",
    "        yield S[0]\n",
    "        S = np.append(S, np.mod(np.sum(S * c), 2))[1:]\n",
    "\n",
    "def ssGen(g):\n",
    "    a, b = next(g), next(g)\n",
    "    while True:\n",
    "        if a == 1:\n",
    "            yield b\n",
    "        a, b = b, next(g)\n",
    "\n",
    "def uniformVal():\n",
    "    bits = 32\n",
    "    S = np.random.randint(2, size=bits)\n",
    "    c = np.array([1 if x in [0, 24, 25, 29, 31] else 0 for x in range(bits)])\n",
    "    g = ssGen(lfsrGen(S, c))\n",
    "    while True:\n",
    "        yield (int(''.join([str(next(g)) for _ in range(bits)]), 2) + 1) / (2 ** bits + 1)\n",
    "\n",
    "def normalVal(E=0,D=1):\n",
    "    r = uniformVal()\n",
    "    phi = uniformVal()\n",
    "    while True:\n",
    "        z = np.sin(2*np.pi*next(phi)) * np.sqrt(-2*np.log(next(r)))\n",
    "        yield E + np.sqrt(D) * z\n",
    "\n",
    "def normalDensity(x, E=0, D=1):\n",
    "    return (np.exp(-(x - E)**2 / (2*D))) / (np.sqrt(D)*np.sqrt(2*np.pi))\n",
    "\n",
    "def integrate(g, p, n, phigen):\n",
    "    phis = [next(phigen) for _ in range(n)]\n",
    "    a = [g(phi)/p(phi) for phi in phis]\n",
    "    return np.mean(a)\n",
    "\n",
    "def func(x):\n",
    "    return np.exp(-x**4) * np.sqrt(1.0 + x**2)\n",
    "\n",
    "xs = [integrate(func, normalDensity, 1000, normalVal()) for _ in range(10)]\n",
    "print(xs)\n",
    "print([np.abs(x - 2.07959) for x in xs])"
   ]
  },
  {
   "cell_type": "code",
   "execution_count": null,
   "metadata": {
    "collapsed": true
   },
   "outputs": [],
   "source": []
  }
 ],
 "metadata": {
  "kernelspec": {
   "display_name": "Python 3",
   "language": "python",
   "name": "python3"
  },
  "language_info": {
   "codemirror_mode": {
    "name": "ipython",
    "version": 3
   },
   "file_extension": ".py",
   "mimetype": "text/x-python",
   "name": "python",
   "nbconvert_exporter": "python",
   "pygments_lexer": "ipython3",
   "version": "3.5.2"
  }
 },
 "nbformat": 4,
 "nbformat_minor": 2
}
