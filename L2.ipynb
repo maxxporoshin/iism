{
 "cells": [
  {
   "cell_type": "code",
   "execution_count": 2,
   "metadata": {
    "collapsed": false
   },
   "outputs": [
    {
     "name": "stdout",
     "output_type": "stream",
     "text": [
      "42 58 13\n",
      "0.15042943614575494\n",
      "31 74 8\n",
      "0.10096505599019473\n",
      "10 20 83\n",
      "2.8341457344947158e-77\n",
      "0 113 0\n",
      "1.1365213127520946e-18\n",
      "40 60 13\n",
      "0.3043784693116464\n",
      "33 66 14\n",
      "0.9550557467169228\n"
     ]
    }
   ],
   "source": [
    "import numpy as np\n",
    "from math import pow, exp\n",
    "from numpy.linalg import matrix_rank\n",
    "\n",
    "def linearGen(x0, a, c, m):\n",
    "    xn = x0\n",
    "    while True:\n",
    "        yield xn\n",
    "        xn = (a * xn + c) % m\n",
    "\n",
    "def mGen(xg, yg, m, k):\n",
    "    v = [next(xg) for _ in range(k)]\n",
    "    while True:\n",
    "        x, y = next(xg), next(yg)\n",
    "        j = int(y * k / m)\n",
    "        yield v[j]\n",
    "        v[j] = x\n",
    "\n",
    "def discreteVal(g, m):\n",
    "    while True:\n",
    "        yield next(g) % m\n",
    "\n",
    "def lfsrGen(S, c):\n",
    "    while True:\n",
    "        yield S[0]\n",
    "        S = np.append(S, np.mod(np.sum(S * c), 2))[1:]\n",
    "\n",
    "def ssGen(g):\n",
    "    a, b = next(lfsr), next(lfsr)\n",
    "    while True:\n",
    "        if a == 1:\n",
    "            yield b\n",
    "        a, b = b, next(lfsr)\n",
    "\n",
    "def binaryMatrixRank(seq, M, Q):\n",
    "    fm = 0\n",
    "    fmm1 = 0\n",
    "    N = len(seq) // (M*Q)\n",
    "    for block in range(N):\n",
    "        mat = np.array( seq[block * M * Q: (block + 1) * M * Q] ).reshape( (M, Q) )\n",
    "        r = matrix_rank( mat )\n",
    "        if r == M:\n",
    "            fm += 1\n",
    "        elif r == M - 1:\n",
    "            fmm1 += 1\n",
    "    print(fm,fmm1,N - fm - fmm1)\n",
    "    cf = [(fm, 0.2888), (fmm1, 0.5776), (N - fm - fmm1, 0.1336)]\n",
    "    xsq = 0.0\n",
    "    for x, y in cf:\n",
    "        xsq += (x - y*N)**2 / (y*N)\n",
    "    return exp(-xsq/2)\n",
    "\n",
    "g1 = linearGen(2, 34, 101, 99)\n",
    "g2 = linearGen(32423, 945, 25725, 2**16)\n",
    "g3 = mGen(g1, g2, 2**16, 64)\n",
    "g4 = mGen(g1, g2, 2**16, 256)\n",
    "gs = [g1,g2,g3,g4]\n",
    "dgs = []\n",
    "for g in gs:\n",
    "    dgs.append(discreteVal(g, 2))\n",
    "S = np.random.randint(2, size=64)\n",
    "c = np.array([1 if x in [0, 59, 60, 62, 63] else 0 for x in range(64)])\n",
    "lfsr = lfsrGen(S, c)\n",
    "ss = ssGen(lfsr)\n",
    "ggs = [lfsr, ss] + dgs\n",
    "\n",
    "for g in ggs:\n",
    "    seq = [next(g) for _ in range(1024)]\n",
    "    print(binaryMatrixRank(seq, 3, 3))"
   ]
  },
  {
   "cell_type": "code",
   "execution_count": null,
   "metadata": {
    "collapsed": true
   },
   "outputs": [],
   "source": []
  }
 ],
 "metadata": {
  "kernelspec": {
   "display_name": "Python 3",
   "language": "python",
   "name": "python3"
  },
  "language_info": {
   "codemirror_mode": {
    "name": "ipython",
    "version": 3
   },
   "file_extension": ".py",
   "mimetype": "text/x-python",
   "name": "python",
   "nbconvert_exporter": "python",
   "pygments_lexer": "ipython3",
   "version": "3.5.2"
  }
 },
 "nbformat": 4,
 "nbformat_minor": 2
}
